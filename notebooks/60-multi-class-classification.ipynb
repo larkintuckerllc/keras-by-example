{
 "cells": [
  {
   "cell_type": "markdown",
   "id": "41501968-4fd5-4e46-ba69-79f49cf3f2da",
   "metadata": {},
   "source": [
    "# imports"
   ]
  },
  {
   "cell_type": "code",
   "execution_count": 1,
   "id": "ba2783a8-5f8c-4f3d-b822-980c3fbc951d",
   "metadata": {},
   "outputs": [],
   "source": [
    "import pandas as pd\n",
    "import tensorflow as tf\n",
    "import tensorflow_datasets as tfds"
   ]
  },
  {
   "cell_type": "markdown",
   "id": "57da9af0-ffed-4d52-8b4b-10a8fa322be0",
   "metadata": {},
   "source": [
    "# constants"
   ]
  },
  {
   "cell_type": "code",
   "execution_count": 2,
   "id": "955afb19-9592-4f4c-8328-4ad7067476f0",
   "metadata": {},
   "outputs": [],
   "source": [
    "BATCH_SIZE = 128\n",
    "EPOCHS = 6\n",
    "LEARNING_RATE = 0.001\n",
    "NEURONS = 128"
   ]
  },
  {
   "cell_type": "markdown",
   "id": "a2f8d538-df49-4992-9b89-e7663d0fe499",
   "metadata": {},
   "source": [
    "# fetch"
   ]
  },
  {
   "cell_type": "code",
   "execution_count": 3,
   "id": "6966b5cf-b853-4379-8708-79436ec8f90f",
   "metadata": {},
   "outputs": [
    {
     "name": "stderr",
     "output_type": "stream",
     "text": [
      "2025-03-19 20:42:03.070724: I tensorflow/core/kernels/data/tf_record_dataset_op.cc:387] The default buffer size is 262144, which is overridden by the user specified `buffer_size` of 8388608\n",
      "2025-03-19 20:42:03.640749: I tensorflow/core/framework/local_rendezvous.cc:407] Local rendezvous is aborting with status: OUT_OF_RANGE: End of sequence\n"
     ]
    },
    {
     "data": {
      "text/html": [
       "<div>\n",
       "<style scoped>\n",
       "    .dataframe tbody tr th:only-of-type {\n",
       "        vertical-align: middle;\n",
       "    }\n",
       "\n",
       "    .dataframe tbody tr th {\n",
       "        vertical-align: top;\n",
       "    }\n",
       "\n",
       "    .dataframe thead th {\n",
       "        text-align: right;\n",
       "    }\n",
       "</style>\n",
       "<table border=\"1\" class=\"dataframe\">\n",
       "  <thead>\n",
       "    <tr style=\"text-align: right;\">\n",
       "      <th></th>\n",
       "      <th>image</th>\n",
       "      <th>label</th>\n",
       "    </tr>\n",
       "  </thead>\n",
       "  <tbody>\n",
       "    <tr>\n",
       "      <th>0</th>\n",
       "      <td>[[[0], [0], [0], [0], [0], [0], [0], [0], [0],...</td>\n",
       "      <td>2</td>\n",
       "    </tr>\n",
       "    <tr>\n",
       "      <th>1</th>\n",
       "      <td>[[[0], [0], [0], [0], [0], [0], [0], [0], [0],...</td>\n",
       "      <td>0</td>\n",
       "    </tr>\n",
       "    <tr>\n",
       "      <th>2</th>\n",
       "      <td>[[[0], [0], [0], [0], [0], [0], [0], [0], [0],...</td>\n",
       "      <td>4</td>\n",
       "    </tr>\n",
       "    <tr>\n",
       "      <th>3</th>\n",
       "      <td>[[[0], [0], [0], [0], [0], [0], [0], [0], [0],...</td>\n",
       "      <td>8</td>\n",
       "    </tr>\n",
       "    <tr>\n",
       "      <th>4</th>\n",
       "      <td>[[[0], [0], [0], [0], [0], [0], [0], [0], [0],...</td>\n",
       "      <td>7</td>\n",
       "    </tr>\n",
       "  </tbody>\n",
       "</table>\n",
       "</div>"
      ],
      "text/plain": [
       "                                               image  label\n",
       "0  [[[0], [0], [0], [0], [0], [0], [0], [0], [0],...      2\n",
       "1  [[[0], [0], [0], [0], [0], [0], [0], [0], [0],...      0\n",
       "2  [[[0], [0], [0], [0], [0], [0], [0], [0], [0],...      4\n",
       "3  [[[0], [0], [0], [0], [0], [0], [0], [0], [0],...      8\n",
       "4  [[[0], [0], [0], [0], [0], [0], [0], [0], [0],...      7"
      ]
     },
     "execution_count": 3,
     "metadata": {},
     "output_type": "execute_result"
    }
   ],
   "source": [
    "(ds_train, ds_test), ds_info = tfds.load(\n",
    "    'mnist',\n",
    "    split=['train', 'test'],\n",
    "    shuffle_files=True,\n",
    "    as_supervised=True,\n",
    "    with_info=True,\n",
    ")\n",
    "\n",
    "df = tfds.as_dataframe(ds_test, ds_info)\n",
    "df.head()"
   ]
  },
  {
   "cell_type": "markdown",
   "id": "275d14d1-ff0a-4378-b571-3aab069746f9",
   "metadata": {},
   "source": [
    "# prepare"
   ]
  },
  {
   "cell_type": "code",
   "execution_count": 4,
   "id": "2fad87f9-6ee8-4cea-8676-51f3fc27e29e",
   "metadata": {},
   "outputs": [],
   "source": [
    "def normalize_img(image, label):\n",
    "  \"\"\"Normalizes images: `uint8` -> `float32`.\"\"\"\n",
    "  return tf.cast(image, tf.float32) / 255., label\n",
    "\n",
    "ds_train = ds_train.map(\n",
    "    normalize_img, num_parallel_calls=tf.data.AUTOTUNE)\n",
    "ds_train = ds_train.cache()\n",
    "ds_train = ds_train.shuffle(ds_info.splits['train'].num_examples)\n",
    "ds_train = ds_train.batch(BATCH_SIZE)\n",
    "ds_train = ds_train.prefetch(tf.data.AUTOTUNE)\n",
    "\n",
    "ds_test = ds_test.map(\n",
    "    normalize_img, num_parallel_calls=tf.data.AUTOTUNE)\n",
    "ds_test = ds_test.batch(BATCH_SIZE)\n",
    "ds_test = ds_test.cache()\n",
    "ds_test = ds_test.prefetch(tf.data.AUTOTUNE)"
   ]
  },
  {
   "cell_type": "markdown",
   "id": "5d3a3432-2977-40f7-a601-cd64076e1595",
   "metadata": {},
   "source": [
    "# train"
   ]
  },
  {
   "cell_type": "code",
   "execution_count": 5,
   "id": "8653ff0e-0801-4617-8c9b-5a5907c67f3d",
   "metadata": {},
   "outputs": [
    {
     "name": "stdout",
     "output_type": "stream",
     "text": [
      "Epoch 1/6\n"
     ]
    },
    {
     "name": "stderr",
     "output_type": "stream",
     "text": [
      "/Users/jtucker/Desktop/working2/keras-by-example/.environment/lib/python3.11/site-packages/keras/src/layers/reshaping/flatten.py:37: UserWarning: Do not pass an `input_shape`/`input_dim` argument to a layer. When using Sequential models, prefer using an `Input(shape)` object as the first layer in the model instead.\n",
      "  super().__init__(**kwargs)\n"
     ]
    },
    {
     "name": "stdout",
     "output_type": "stream",
     "text": [
      "\u001b[1m469/469\u001b[0m \u001b[32m━━━━━━━━━━━━━━━━━━━━\u001b[0m\u001b[37m\u001b[0m \u001b[1m2s\u001b[0m 2ms/step - loss: 0.6011 - sparse_categorical_accuracy: 0.8374 - val_loss: 0.1864 - val_sparse_categorical_accuracy: 0.9475\n",
      "Epoch 2/6\n",
      "\u001b[1m469/469\u001b[0m \u001b[32m━━━━━━━━━━━━━━━━━━━━\u001b[0m\u001b[37m\u001b[0m \u001b[1m1s\u001b[0m 1ms/step - loss: 0.1716 - sparse_categorical_accuracy: 0.9505 - val_loss: 0.1375 - val_sparse_categorical_accuracy: 0.9583\n",
      "Epoch 3/6\n",
      "\u001b[1m469/469\u001b[0m \u001b[32m━━━━━━━━━━━━━━━━━━━━\u001b[0m\u001b[37m\u001b[0m \u001b[1m1s\u001b[0m 1ms/step - loss: 0.1223 - sparse_categorical_accuracy: 0.9654 - val_loss: 0.1094 - val_sparse_categorical_accuracy: 0.9670\n",
      "Epoch 4/6\n",
      "\u001b[1m469/469\u001b[0m \u001b[32m━━━━━━━━━━━━━━━━━━━━\u001b[0m\u001b[37m\u001b[0m \u001b[1m1s\u001b[0m 1ms/step - loss: 0.0960 - sparse_categorical_accuracy: 0.9720 - val_loss: 0.1015 - val_sparse_categorical_accuracy: 0.9703\n",
      "Epoch 5/6\n",
      "\u001b[1m469/469\u001b[0m \u001b[32m━━━━━━━━━━━━━━━━━━━━\u001b[0m\u001b[37m\u001b[0m \u001b[1m1s\u001b[0m 1ms/step - loss: 0.0733 - sparse_categorical_accuracy: 0.9794 - val_loss: 0.0849 - val_sparse_categorical_accuracy: 0.9744\n",
      "Epoch 6/6\n",
      "\u001b[1m469/469\u001b[0m \u001b[32m━━━━━━━━━━━━━━━━━━━━\u001b[0m\u001b[37m\u001b[0m \u001b[1m1s\u001b[0m 1ms/step - loss: 0.0579 - sparse_categorical_accuracy: 0.9841 - val_loss: 0.0839 - val_sparse_categorical_accuracy: 0.9748\n"
     ]
    },
    {
     "data": {
      "text/plain": [
       "<keras.src.callbacks.history.History at 0x177150710>"
      ]
     },
     "execution_count": 5,
     "metadata": {},
     "output_type": "execute_result"
    }
   ],
   "source": [
    "model = tf.keras.models.Sequential([\n",
    "  tf.keras.layers.Flatten(input_shape=(28, 28)),\n",
    "  tf.keras.layers.Dense(128, activation='relu'),\n",
    "  tf.keras.layers.Dense(10, activation='sigmoid')\n",
    "])\n",
    "\n",
    "model.compile(\n",
    "    optimizer=tf.keras.optimizers.Adam(LEARNING_RATE),\n",
    "    loss=tf.keras.losses.SparseCategoricalCrossentropy(),\n",
    "    metrics=[tf.keras.metrics.SparseCategoricalAccuracy()],\n",
    ")\n",
    "\n",
    "model.fit(\n",
    "    ds_train,\n",
    "    epochs=EPOCHS,\n",
    "    validation_data=ds_test,\n",
    ")"
   ]
  },
  {
   "cell_type": "markdown",
   "id": "43bc2516-4e09-4625-92fc-48470a234250",
   "metadata": {},
   "source": [
    "# predict"
   ]
  },
  {
   "cell_type": "code",
   "execution_count": 6,
   "id": "7f4f2b11-80d4-4a33-ae97-b4ab8d3d0ae4",
   "metadata": {},
   "outputs": [
    {
     "data": {
      "text/html": [
       "<div>\n",
       "<style scoped>\n",
       "    .dataframe tbody tr th:only-of-type {\n",
       "        vertical-align: middle;\n",
       "    }\n",
       "\n",
       "    .dataframe tbody tr th {\n",
       "        vertical-align: top;\n",
       "    }\n",
       "\n",
       "    .dataframe thead th {\n",
       "        text-align: right;\n",
       "    }\n",
       "</style>\n",
       "<table border=\"1\" class=\"dataframe\">\n",
       "  <thead>\n",
       "    <tr style=\"text-align: right;\">\n",
       "      <th></th>\n",
       "      <th>0</th>\n",
       "      <th>1</th>\n",
       "      <th>2</th>\n",
       "      <th>3</th>\n",
       "      <th>4</th>\n",
       "      <th>5</th>\n",
       "      <th>6</th>\n",
       "      <th>7</th>\n",
       "      <th>8</th>\n",
       "      <th>9</th>\n",
       "    </tr>\n",
       "  </thead>\n",
       "  <tbody>\n",
       "    <tr>\n",
       "      <th>0</th>\n",
       "      <td>0.001502</td>\n",
       "      <td>2.653304e-03</td>\n",
       "      <td>0.999991</td>\n",
       "      <td>0.252168</td>\n",
       "      <td>0.174911</td>\n",
       "      <td>0.025782</td>\n",
       "      <td>1.455435e-02</td>\n",
       "      <td>0.000185</td>\n",
       "      <td>0.099822</td>\n",
       "      <td>0.000438</td>\n",
       "    </tr>\n",
       "    <tr>\n",
       "      <th>1</th>\n",
       "      <td>1.000000</td>\n",
       "      <td>2.016279e-07</td>\n",
       "      <td>0.012043</td>\n",
       "      <td>0.000579</td>\n",
       "      <td>0.000096</td>\n",
       "      <td>0.641573</td>\n",
       "      <td>9.458644e-01</td>\n",
       "      <td>0.011427</td>\n",
       "      <td>0.271400</td>\n",
       "      <td>0.000155</td>\n",
       "    </tr>\n",
       "    <tr>\n",
       "      <th>2</th>\n",
       "      <td>0.000113</td>\n",
       "      <td>1.042062e-04</td>\n",
       "      <td>0.001097</td>\n",
       "      <td>0.025531</td>\n",
       "      <td>0.999998</td>\n",
       "      <td>0.000647</td>\n",
       "      <td>2.566294e-04</td>\n",
       "      <td>0.584064</td>\n",
       "      <td>0.040326</td>\n",
       "      <td>0.950858</td>\n",
       "    </tr>\n",
       "    <tr>\n",
       "      <th>3</th>\n",
       "      <td>0.350496</td>\n",
       "      <td>7.623140e-02</td>\n",
       "      <td>0.037630</td>\n",
       "      <td>0.304664</td>\n",
       "      <td>0.000125</td>\n",
       "      <td>0.074052</td>\n",
       "      <td>2.999558e-02</td>\n",
       "      <td>0.017199</td>\n",
       "      <td>0.998563</td>\n",
       "      <td>0.107042</td>\n",
       "    </tr>\n",
       "    <tr>\n",
       "      <th>4</th>\n",
       "      <td>0.019664</td>\n",
       "      <td>1.644276e-03</td>\n",
       "      <td>0.634081</td>\n",
       "      <td>0.616142</td>\n",
       "      <td>0.001101</td>\n",
       "      <td>0.000588</td>\n",
       "      <td>1.330418e-07</td>\n",
       "      <td>0.999998</td>\n",
       "      <td>0.048821</td>\n",
       "      <td>0.382237</td>\n",
       "    </tr>\n",
       "  </tbody>\n",
       "</table>\n",
       "</div>"
      ],
      "text/plain": [
       "          0             1         2         3         4         5  \\\n",
       "0  0.001502  2.653304e-03  0.999991  0.252168  0.174911  0.025782   \n",
       "1  1.000000  2.016279e-07  0.012043  0.000579  0.000096  0.641573   \n",
       "2  0.000113  1.042062e-04  0.001097  0.025531  0.999998  0.000647   \n",
       "3  0.350496  7.623140e-02  0.037630  0.304664  0.000125  0.074052   \n",
       "4  0.019664  1.644276e-03  0.634081  0.616142  0.001101  0.000588   \n",
       "\n",
       "              6         7         8         9  \n",
       "0  1.455435e-02  0.000185  0.099822  0.000438  \n",
       "1  9.458644e-01  0.011427  0.271400  0.000155  \n",
       "2  2.566294e-04  0.584064  0.040326  0.950858  \n",
       "3  2.999558e-02  0.017199  0.998563  0.107042  \n",
       "4  1.330418e-07  0.999998  0.048821  0.382237  "
      ]
     },
     "execution_count": 6,
     "metadata": {},
     "output_type": "execute_result"
    }
   ],
   "source": [
    "predictions = model.predict(\n",
    "    ds_test,\n",
    "    batch_size=BATCH_SIZE,\n",
    "    verbose=0,\n",
    ")\n",
    "predictions_df = pd.DataFrame(predictions)\n",
    "predictions_df.head()"
   ]
  }
 ],
 "metadata": {
  "kernelspec": {
   "display_name": "Python 3 (ipykernel)",
   "language": "python",
   "name": "python3"
  },
  "language_info": {
   "codemirror_mode": {
    "name": "ipython",
    "version": 3
   },
   "file_extension": ".py",
   "mimetype": "text/x-python",
   "name": "python",
   "nbconvert_exporter": "python",
   "pygments_lexer": "ipython3",
   "version": "3.11.11"
  }
 },
 "nbformat": 4,
 "nbformat_minor": 5
}
