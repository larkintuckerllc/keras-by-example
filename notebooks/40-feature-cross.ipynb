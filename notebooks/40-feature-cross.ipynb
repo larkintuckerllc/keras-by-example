{
 "cells": [
  {
   "cell_type": "markdown",
   "id": "46354279-0a1e-4e8d-ad2d-fc4892c53ad4",
   "metadata": {},
   "source": [
    "# import"
   ]
  },
  {
   "cell_type": "code",
   "execution_count": 1,
   "id": "d44f8213-360d-4b49-ad83-c38a33a5c1bf",
   "metadata": {},
   "outputs": [],
   "source": [
    "import math\n",
    "import os\n",
    "import pandas as pd\n",
    "os.environ[\"KERAS_BACKEND\"] = \"tensorflow\"\n",
    "import keras"
   ]
  },
  {
   "cell_type": "markdown",
   "id": "d1996c37-c7c3-4826-9519-5c7e8049e5ec",
   "metadata": {},
   "source": [
    "# constants"
   ]
  },
  {
   "cell_type": "code",
   "execution_count": 2,
   "id": "e8892d35-f377-496d-b220-f80729077c9f",
   "metadata": {},
   "outputs": [],
   "source": [
    "BATCH_SIZE = 100\n",
    "EPOCHS = 20\n",
    "LEARNING_RATE = 0.1\n",
    "THRESHOLDS = [0.2, 0.3, 0.4, 0.5, 0.6, 0.7]"
   ]
  },
  {
   "cell_type": "markdown",
   "id": "5310d43c-5069-4fb3-aa2b-e8b1ce842f4f",
   "metadata": {},
   "source": [
    "# fetch"
   ]
  },
  {
   "cell_type": "code",
   "execution_count": 3,
   "id": "15b4ab6f-c93d-4672-b795-ac212d4f1580",
   "metadata": {},
   "outputs": [
    {
     "data": {
      "text/html": [
       "<div>\n",
       "<style scoped>\n",
       "    .dataframe tbody tr th:only-of-type {\n",
       "        vertical-align: middle;\n",
       "    }\n",
       "\n",
       "    .dataframe tbody tr th {\n",
       "        vertical-align: top;\n",
       "    }\n",
       "\n",
       "    .dataframe thead th {\n",
       "        text-align: right;\n",
       "    }\n",
       "</style>\n",
       "<table border=\"1\" class=\"dataframe\">\n",
       "  <thead>\n",
       "    <tr style=\"text-align: right;\">\n",
       "      <th></th>\n",
       "      <th>x</th>\n",
       "      <th>y</th>\n",
       "      <th>is_in</th>\n",
       "    </tr>\n",
       "  </thead>\n",
       "  <tbody>\n",
       "    <tr>\n",
       "      <th>0</th>\n",
       "      <td>-0.342671</td>\n",
       "      <td>-0.377219</td>\n",
       "      <td>1</td>\n",
       "    </tr>\n",
       "    <tr>\n",
       "      <th>1</th>\n",
       "      <td>-2.189994</td>\n",
       "      <td>-3.914946</td>\n",
       "      <td>0</td>\n",
       "    </tr>\n",
       "    <tr>\n",
       "      <th>2</th>\n",
       "      <td>-0.087206</td>\n",
       "      <td>-3.781911</td>\n",
       "      <td>0</td>\n",
       "    </tr>\n",
       "    <tr>\n",
       "      <th>3</th>\n",
       "      <td>2.124552</td>\n",
       "      <td>-2.604753</td>\n",
       "      <td>0</td>\n",
       "    </tr>\n",
       "    <tr>\n",
       "      <th>4</th>\n",
       "      <td>3.807756</td>\n",
       "      <td>-3.584953</td>\n",
       "      <td>0</td>\n",
       "    </tr>\n",
       "  </tbody>\n",
       "</table>\n",
       "</div>"
      ],
      "text/plain": [
       "          x         y  is_in\n",
       "0 -0.342671 -0.377219      1\n",
       "1 -2.189994 -3.914946      0\n",
       "2 -0.087206 -3.781911      0\n",
       "3  2.124552 -2.604753      0\n",
       "4  3.807756 -3.584953      0"
      ]
     },
     "execution_count": 3,
     "metadata": {},
     "output_type": "execute_result"
    }
   ],
   "source": [
    "working_df = pd.read_csv(\"../data/is_in.csv\")\n",
    "working_df.head()"
   ]
  },
  {
   "cell_type": "markdown",
   "id": "5d852b82-b9ba-4f8d-b7a7-1278ed72a5f4",
   "metadata": {},
   "source": [
    "# prepare"
   ]
  },
  {
   "cell_type": "code",
   "execution_count": 4,
   "id": "3bd427c7-5383-4faa-b0a7-35dcb8ea6d25",
   "metadata": {},
   "outputs": [
    {
     "data": {
      "text/html": [
       "<div>\n",
       "<style scoped>\n",
       "    .dataframe tbody tr th:only-of-type {\n",
       "        vertical-align: middle;\n",
       "    }\n",
       "\n",
       "    .dataframe tbody tr th {\n",
       "        vertical-align: top;\n",
       "    }\n",
       "\n",
       "    .dataframe thead th {\n",
       "        text-align: right;\n",
       "    }\n",
       "</style>\n",
       "<table border=\"1\" class=\"dataframe\">\n",
       "  <thead>\n",
       "    <tr style=\"text-align: right;\">\n",
       "      <th></th>\n",
       "      <th>cross</th>\n",
       "      <th>is_in</th>\n",
       "    </tr>\n",
       "  </thead>\n",
       "  <tbody>\n",
       "    <tr>\n",
       "      <th>0</th>\n",
       "      <td>0.259717</td>\n",
       "      <td>1</td>\n",
       "    </tr>\n",
       "    <tr>\n",
       "      <th>1</th>\n",
       "      <td>20.122880</td>\n",
       "      <td>0</td>\n",
       "    </tr>\n",
       "    <tr>\n",
       "      <th>2</th>\n",
       "      <td>14.310453</td>\n",
       "      <td>0</td>\n",
       "    </tr>\n",
       "    <tr>\n",
       "      <th>3</th>\n",
       "      <td>11.298459</td>\n",
       "      <td>0</td>\n",
       "    </tr>\n",
       "    <tr>\n",
       "      <th>4</th>\n",
       "      <td>27.350895</td>\n",
       "      <td>0</td>\n",
       "    </tr>\n",
       "  </tbody>\n",
       "</table>\n",
       "</div>"
      ],
      "text/plain": [
       "       cross  is_in\n",
       "0   0.259717      1\n",
       "1  20.122880      0\n",
       "2  14.310453      0\n",
       "3  11.298459      0\n",
       "4  27.350895      0"
      ]
     },
     "execution_count": 4,
     "metadata": {},
     "output_type": "execute_result"
    }
   ],
   "source": [
    "working_df[\"cross\"] = working_df[\"x\"]**2 + working_df[\"y\"]**2\n",
    "working_df = working_df[[\"cross\", \"is_in\"]]\n",
    "working_df.head()"
   ]
  },
  {
   "cell_type": "code",
   "execution_count": 5,
   "id": "bafff695-b40a-4d07-9909-426d27e6522f",
   "metadata": {},
   "outputs": [],
   "source": [
    "length_all = len(working_df)\n",
    "length_train = math.trunc(length_all * 0.8)\n",
    "end_train = length_train - 1\n",
    "start_test = length_train\n",
    "train_df = working_df.iloc[:end_train]\n",
    "test_df = working_df.iloc[start_test:]"
   ]
  },
  {
   "cell_type": "markdown",
   "id": "e9271a85-45c4-4243-9499-6568a20d75f5",
   "metadata": {},
   "source": [
    "# train"
   ]
  },
  {
   "cell_type": "code",
   "execution_count": 6,
   "id": "8ef2ad0b-0800-4cf8-8d9a-b2ce20c59dd4",
   "metadata": {},
   "outputs": [
    {
     "name": "stdout",
     "output_type": "stream",
     "text": [
      "Epoch 1/20\n",
      "\u001b[1m8/8\u001b[0m \u001b[32m━━━━━━━━━━━━━━━━━━━━\u001b[0m\u001b[37m\u001b[0m \u001b[1m0s\u001b[0m 2ms/step - false_negatives: 125.8148 - false_positives: 3.5000 - loss: 0.9445 - true_negatives: 306.2778 - true_positives: 52.8518   \n",
      "Epoch 2/20\n",
      "\u001b[1m8/8\u001b[0m \u001b[32m━━━━━━━━━━━━━━━━━━━━\u001b[0m\u001b[37m\u001b[0m \u001b[1m0s\u001b[0m 2ms/step - false_negatives: 54.2963 - false_positives: 13.7593 - loss: 0.2988 - true_negatives: 298.6852 - true_positives: 121.7037\n",
      "Epoch 3/20\n",
      "\u001b[1m8/8\u001b[0m \u001b[32m━━━━━━━━━━━━━━━━━━━━\u001b[0m\u001b[37m\u001b[0m \u001b[1m0s\u001b[0m 2ms/step - false_negatives: 42.3704 - false_positives: 14.9630 - loss: 0.2611 - true_negatives: 294.0370 - true_positives: 137.0741\n",
      "Epoch 4/20\n",
      "\u001b[1m8/8\u001b[0m \u001b[32m━━━━━━━━━━━━━━━━━━━━\u001b[0m\u001b[37m\u001b[0m \u001b[1m0s\u001b[0m 2ms/step - false_negatives: 32.8148 - false_positives: 14.7037 - loss: 0.2252 - true_negatives: 298.7408 - true_positives: 142.1852\n",
      "Epoch 5/20\n",
      "\u001b[1m8/8\u001b[0m \u001b[32m━━━━━━━━━━━━━━━━━━━━\u001b[0m\u001b[37m\u001b[0m \u001b[1m0s\u001b[0m 2ms/step - false_negatives: 29.6296 - false_positives: 14.2222 - loss: 0.2115 - true_negatives: 297.2222 - true_positives: 147.3704\n",
      "Epoch 6/20\n",
      "\u001b[1m8/8\u001b[0m \u001b[32m━━━━━━━━━━━━━━━━━━━━\u001b[0m\u001b[37m\u001b[0m \u001b[1m0s\u001b[0m 2ms/step - false_negatives: 23.5741 - false_positives: 12.9815 - loss: 0.1822 - true_negatives: 299.9074 - true_positives: 151.9815\n",
      "Epoch 7/20\n",
      "\u001b[1m8/8\u001b[0m \u001b[32m━━━━━━━━━━━━━━━━━━━━\u001b[0m\u001b[37m\u001b[0m \u001b[1m0s\u001b[0m 4ms/step - false_negatives: 18.1111 - false_positives: 15.0000 - loss: 0.1638 - true_negatives: 294.7778 - true_positives: 160.5556\n",
      "Epoch 8/20\n",
      "\u001b[1m8/8\u001b[0m \u001b[32m━━━━━━━━━━━━━━━━━━━━\u001b[0m\u001b[37m\u001b[0m \u001b[1m0s\u001b[0m 2ms/step - false_negatives: 18.0741 - false_positives: 12.8889 - loss: 0.1457 - true_negatives: 302.6667 - true_positives: 154.8148\n",
      "Epoch 9/20\n",
      "\u001b[1m8/8\u001b[0m \u001b[32m━━━━━━━━━━━━━━━━━━━━\u001b[0m\u001b[37m\u001b[0m \u001b[1m0s\u001b[0m 2ms/step - false_negatives: 16.0556 - false_positives: 14.9444 - loss: 0.1478 - true_negatives: 289.6111 - true_positives: 167.8333\n",
      "Epoch 10/20\n",
      "\u001b[1m8/8\u001b[0m \u001b[32m━━━━━━━━━━━━━━━━━━━━\u001b[0m\u001b[37m\u001b[0m \u001b[1m0s\u001b[0m 2ms/step - false_negatives: 14.5741 - false_positives: 14.2037 - loss: 0.1427 - true_negatives: 289.2408 - true_positives: 170.4259\n",
      "Epoch 11/20\n",
      "\u001b[1m8/8\u001b[0m \u001b[32m━━━━━━━━━━━━━━━━━━━━\u001b[0m\u001b[37m\u001b[0m \u001b[1m0s\u001b[0m 2ms/step - false_negatives: 13.9444 - false_positives: 9.1111 - loss: 0.1140 - true_negatives: 299.0000 - true_positives: 166.3889\n",
      "Epoch 12/20\n",
      "\u001b[1m8/8\u001b[0m \u001b[32m━━━━━━━━━━━━━━━━━━━━\u001b[0m\u001b[37m\u001b[0m \u001b[1m0s\u001b[0m 2ms/step - false_negatives: 12.0926 - false_positives: 13.3704 - loss: 0.1259 - true_negatives: 296.8518 - true_positives: 166.1296\n",
      "Epoch 13/20\n",
      "\u001b[1m8/8\u001b[0m \u001b[32m━━━━━━━━━━━━━━━━━━━━\u001b[0m\u001b[37m\u001b[0m \u001b[1m0s\u001b[0m 2ms/step - false_negatives: 11.1667 - false_positives: 11.8889 - loss: 0.1055 - true_negatives: 293.8889 - true_positives: 171.5000\n",
      "Epoch 14/20\n",
      "\u001b[1m8/8\u001b[0m \u001b[32m━━━━━━━━━━━━━━━━━━━━\u001b[0m\u001b[37m\u001b[0m \u001b[1m0s\u001b[0m 2ms/step - false_negatives: 11.5370 - false_positives: 11.7222 - loss: 0.1118 - true_negatives: 299.6111 - true_positives: 165.5741\n",
      "Epoch 15/20\n",
      "\u001b[1m8/8\u001b[0m \u001b[32m━━━━━━━━━━━━━━━━━━━━\u001b[0m\u001b[37m\u001b[0m \u001b[1m0s\u001b[0m 2ms/step - false_negatives: 11.5370 - false_positives: 12.6852 - loss: 0.1101 - true_negatives: 303.3148 - true_positives: 160.9074\n",
      "Epoch 16/20\n",
      "\u001b[1m8/8\u001b[0m \u001b[32m━━━━━━━━━━━━━━━━━━━━\u001b[0m\u001b[37m\u001b[0m \u001b[1m0s\u001b[0m 2ms/step - false_negatives: 10.3519 - false_positives: 10.7593 - loss: 0.0958 - true_negatives: 299.1296 - true_positives: 168.2037\n",
      "Epoch 17/20\n",
      "\u001b[1m8/8\u001b[0m \u001b[32m━━━━━━━━━━━━━━━━━━━━\u001b[0m\u001b[37m\u001b[0m \u001b[1m0s\u001b[0m 2ms/step - false_negatives: 11.4444 - false_positives: 10.9259 - loss: 0.0995 - true_negatives: 295.5185 - true_positives: 170.5556\n",
      "Epoch 18/20\n",
      "\u001b[1m8/8\u001b[0m \u001b[32m━━━━━━━━━━━━━━━━━━━━\u001b[0m\u001b[37m\u001b[0m \u001b[1m0s\u001b[0m 2ms/step - false_negatives: 10.7222 - false_positives: 9.7407 - loss: 0.0987 - true_negatives: 297.9259 - true_positives: 170.0556\n",
      "Epoch 19/20\n",
      "\u001b[1m8/8\u001b[0m \u001b[32m━━━━━━━━━━━━━━━━━━━━\u001b[0m\u001b[37m\u001b[0m \u001b[1m0s\u001b[0m 2ms/step - false_negatives: 10.6111 - false_positives: 11.9259 - loss: 0.1048 - true_negatives: 292.1852 - true_positives: 173.7222\n",
      "Epoch 20/20\n",
      "\u001b[1m8/8\u001b[0m \u001b[32m━━━━━━━━━━━━━━━━━━━━\u001b[0m\u001b[37m\u001b[0m \u001b[1m0s\u001b[0m 2ms/step - false_negatives: 9.9444 - false_positives: 9.1111 - loss: 0.0876 - true_negatives: 299.5555 - true_positives: 169.8333\n"
     ]
    }
   ],
   "source": [
    "inputs = keras.Input(shape=(1,))\n",
    "outputs = keras.layers.Dense(1, activation=keras.activations.sigmoid)(inputs)\n",
    "model = keras.Model(inputs, outputs)\n",
    "\n",
    "model.compile(\n",
    "    optimizer=keras.optimizers.RMSprop(learning_rate=LEARNING_RATE),\n",
    "    loss=keras.losses.BinaryCrossentropy(),\n",
    "    metrics=[\n",
    "        keras.metrics.FalseNegatives(THRESHOLDS),\n",
    "        keras.metrics.FalsePositives(THRESHOLDS),\n",
    "        keras.metrics.TrueNegatives(THRESHOLDS),\n",
    "        keras.metrics.TruePositives(THRESHOLDS),\n",
    "    ],\n",
    ")\n",
    "\n",
    "history = model.fit(\n",
    "    x=train_df[\"cross\"].values,\n",
    "    y=train_df[\"is_in\"].values,\n",
    "    batch_size=BATCH_SIZE,\n",
    "    epochs=EPOCHS,\n",
    ")"
   ]
  },
  {
   "cell_type": "markdown",
   "id": "b5f6b54b-554c-487f-9d15-8dfff9137cd4",
   "metadata": {},
   "source": [
    "# evaluate"
   ]
  },
  {
   "cell_type": "code",
   "execution_count": 8,
   "id": "c76d46f3-d359-4f46-9bd4-242ab26653ef",
   "metadata": {},
   "outputs": [
    {
     "name": "stdout",
     "output_type": "stream",
     "text": [
      "weight: -1.159325361251831\n",
      "bias: 7.938429355621338\n",
      "     metric      0.2         0.3      0.4         0.5         0.6         0.7\n",
      "0        TP   75.000   73.000000   72.000   68.000000   65.000000   61.000000\n",
      "1        FP   11.000    7.000000    0.000    0.000000    0.000000    0.000000\n",
      "2        FN    0.000    2.000000    3.000    7.000000   10.000000   14.000000\n",
      "3        TN  114.000  118.000000  125.000  125.000000  125.000000  125.000000\n",
      "4  Accuracy    0.945    0.955000    0.985    0.965000    0.950000    0.930000\n",
      "5       FPR    0.088    0.056000    0.000    0.000000    0.000000    0.000000\n",
      "6       TPR    1.000    0.973333    0.960    0.906667    0.866667    0.813333\n"
     ]
    }
   ],
   "source": [
    "weight = model.get_weights()[0][0][0]\n",
    "bias = model.get_weights()[1][0]\n",
    "print(f\"weight: {weight}\")\n",
    "print(f\"bias: {bias}\")\n",
    "\n",
    "evaluation = model.evaluate(\n",
    "    x=test_df[\"cross\"].values,\n",
    "    y=test_df[\"is_in\"].values,\n",
    "    batch_size=BATCH_SIZE,\n",
    "    return_dict=True,\n",
    "    verbose=0,\n",
    ")\n",
    "metrics_df = pd.DataFrame(columns=[\"metric\"] + THRESHOLDS)\n",
    "tp = evaluation[\"true_positives\"].numpy().tolist()\n",
    "metrics_df.loc[len(metrics_df)] = [\"TP\"] + tp\n",
    "fp = evaluation[\"false_positives\"].numpy().tolist()\n",
    "metrics_df.loc[len(metrics_df)] = [\"FP\"] + fp\n",
    "fn = evaluation[\"false_negatives\"].numpy().tolist()\n",
    "metrics_df.loc[len(metrics_df)] = [\"FN\"] + fn\n",
    "tn = evaluation[\"true_negatives\"].numpy().tolist()\n",
    "metrics_df.loc[len(metrics_df)] = [\"TN\"] + tn\n",
    "accuracy = []\n",
    "for i in range(len(THRESHOLDS)):\n",
    "    accuracy.append((tp[i] + tn[i]) / (tp[i] + tn[i] + fp[i] + fn[i]))\n",
    "metrics_df.loc[len(metrics_df)] = [\"Accuracy\"] + accuracy\n",
    "fpr = []\n",
    "for i in range(len(THRESHOLDS)):\n",
    "    fpr.append(fp[i] / (fp[i] + tn[i]))\n",
    "metrics_df.loc[len(metrics_df)] = [\"FPR\"] + fpr\n",
    "tpr = []\n",
    "for i in range(len(THRESHOLDS)):\n",
    "    tpr.append(tp[i] / (tp[i] + fn[i]))\n",
    "metrics_df.loc[len(metrics_df)] = [\"TPR\"] + tpr\n",
    "print(metrics_df)"
   ]
  },
  {
   "cell_type": "code",
   "execution_count": null,
   "id": "2d17f3c0-a854-40ba-9aa5-fba6f6e6aa5c",
   "metadata": {},
   "outputs": [],
   "source": []
  }
 ],
 "metadata": {
  "kernelspec": {
   "display_name": "Python 3 (ipykernel)",
   "language": "python",
   "name": "python3"
  },
  "language_info": {
   "codemirror_mode": {
    "name": "ipython",
    "version": 3
   },
   "file_extension": ".py",
   "mimetype": "text/x-python",
   "name": "python",
   "nbconvert_exporter": "python",
   "pygments_lexer": "ipython3",
   "version": "3.11.11"
  }
 },
 "nbformat": 4,
 "nbformat_minor": 5
}
